{
 "cells": [
  {
   "cell_type": "markdown",
   "metadata": {},
   "source": [
    "# Theory part explanation"
   ]
  },
  {
   "cell_type": "code",
   "execution_count": null,
   "metadata": {},
   "outputs": [],
   "source": [
    "function splitswap(a, l, n):\n",
    "    if n <= 1:\n",
    "        return\n",
    "    splitswap(a, l, n/2)\n",
    "    splitswap(a, l, n/2)\n",
    "    swaplist(a,l,n)"
   ]
  },
  {
   "cell_type": "markdown",
   "metadata": {},
   "source": [
    "In this function the input is a list of n elements.\n",
    "its a type of divide and conquer algorithm. so on each step we divide the list by n/2 and swap the values. So the output is the inverted list of the original list passed to the splitswap() function. Let me clarify things."
   ]
  },
  {
   "cell_type": "code",
   "execution_count": null,
   "metadata": {},
   "outputs": [],
   "source": [
    "li = [A,B,C,D,E,F,G,H]"
   ]
  },
  {
   "cell_type": "code",
   "execution_count": null,
   "metadata": {},
   "outputs": [],
   "source": [
    "[E,F,G,H] [A,B,C,D]"
   ]
  },
  {
   "cell_type": "code",
   "execution_count": 2,
   "metadata": {},
   "outputs": [],
   "source": [
    "[G,H][E,F][C,D][A,B]"
   ]
  },
  {
   "cell_type": "code",
   "execution_count": null,
   "metadata": {},
   "outputs": [],
   "source": [
    "[H][G][F][E][D][C][B][A]"
   ]
  },
  {
   "cell_type": "markdown",
   "metadata": {},
   "source": [
    "if we get to n <= 1 then we return the reversed list. so ....."
   ]
  },
  {
   "cell_type": "code",
   "execution_count": null,
   "metadata": {},
   "outputs": [],
   "source": [
    "[H,G,F,E,D,C,B,A]"
   ]
  },
  {
   "cell_type": "markdown",
   "metadata": {},
   "source": [
    "# Complexity"
   ]
  },
  {
   "cell_type": "code",
   "execution_count": null,
   "metadata": {},
   "outputs": [],
   "source": [
    "T(n) = 2T(n/2) + O(n) for n > 1 and θ(1) for n <= 1"
   ]
  },
  {
   "cell_type": "markdown",
   "metadata": {},
   "source": [
    " So T(n/2) for each splitswap() and O(n) for swaplist() "
   ]
  },
  {
   "cell_type": "markdown",
   "metadata": {},
   "source": [
    "We call splitswap() 2 times so we are dealing with 2T(n/2). which clearly is logarithmic. And the second function which is of O(n)."
   ]
  },
  {
   "cell_type": "markdown",
   "metadata": {},
   "source": [
    "based on master theorem we are dealing with nlogn complexity. becasuse 2 = 2 and d =1"
   ]
  },
  {
   "cell_type": "markdown",
   "metadata": {},
   "source": [
    "T(n) = 2T(n/2) + n\n",
    "    <= cn/2Log(n/2) + n\n",
    "    =  cnLogn - cnLog2 + n\n",
    "    =  cnLogn - cn + n\n",
    "    <= cnLogn"
   ]
  },
  {
   "cell_type": "markdown",
   "metadata": {},
   "source": [
    "actually it is not optimal since we can avoid one splitswap() function and do the same thing exactly on the original array. the optimal would be O(n)"
   ]
  }
 ],
 "metadata": {
  "kernelspec": {
   "display_name": "Python 3",
   "language": "python",
   "name": "python3"
  },
  "language_info": {
   "codemirror_mode": {
    "name": "ipython",
    "version": 3
   },
   "file_extension": ".py",
   "mimetype": "text/x-python",
   "name": "python",
   "nbconvert_exporter": "python",
   "pygments_lexer": "ipython3",
   "version": "3.7.3"
  }
 },
 "nbformat": 4,
 "nbformat_minor": 2
}
