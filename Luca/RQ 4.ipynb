{
 "cells": [
  {
   "cell_type": "markdown",
   "metadata": {},
   "source": [
    "## RQ 4"
   ]
  },
  {
   "cell_type": "code",
   "execution_count": 2,
   "metadata": {},
   "outputs": [],
   "source": [
    "import json\n",
    "import pandas as pd\n",
    "import numpy as np\n",
    "import seaborn as sns\n",
    "#this way we can visualize in the notebook\n",
    "%matplotlib inline "
   ]
  },
  {
   "cell_type": "code",
   "execution_count": 3,
   "metadata": {},
   "outputs": [],
   "source": [
    "players = pd.read_json(\"C:/Users/Luca/Desktop/-/Università/Magistrale/Primo anno/Primo semestre/ADM/Homeworks/Homework #2/Data/players.json\")"
   ]
  },
  {
   "cell_type": "code",
   "execution_count": 4,
   "metadata": {},
   "outputs": [],
   "source": [
    "events = pd.read_json(\"C:/Users/Luca/Desktop/-/Università/Magistrale/Primo anno/Primo semestre/ADM/Homeworks/Homework #2/Data/events/events_England.json\")\n",
    "#events"
   ]
  },
  {
   "cell_type": "code",
   "execution_count": 5,
   "metadata": {},
   "outputs": [],
   "source": [
    "#we are only interested in the Passes \n",
    "passes = events[events[\"eventName\"] == \"Pass\"][[\"id\", \"matchId\", \"playerId\", \"tags\", \"teamId\"]] \n",
    "#passes"
   ]
  },
  {
   "cell_type": "code",
   "execution_count": 6,
   "metadata": {},
   "outputs": [],
   "source": [
    "# Merge togheter table player and table passes (sub-table of events)\n",
    "newdf1 = passes.merge(players, left_on='playerId', right_on='wyId') \n",
    "#newdf1"
   ]
  },
  {
   "cell_type": "code",
   "execution_count": 7,
   "metadata": {},
   "outputs": [],
   "source": [
    "# we added a new column with the total attempts\n",
    "newdf1['total_attempts'] = newdf1.groupby('playerId')['playerId'].transform('count') \n",
    "newdf1 = newdf1[[\"playerId\", \"lastName\", \"tags\", \"total_attempts\"]]\n",
    "#newdf1"
   ]
  },
  {
   "cell_type": "code",
   "execution_count": 9,
   "metadata": {},
   "outputs": [],
   "source": [
    "# add a column that counts every completed pass giving 1 if tag == 1801 and 0 if it is not\n",
    "newdf1['tag'] = newdf1.apply(lambda row: 1 if row.tags[0]['id'] == 1801 else 0, axis=1)\n",
    "# newdf1"
   ]
  },
  {
   "cell_type": "code",
   "execution_count": 10,
   "metadata": {},
   "outputs": [],
   "source": [
    "# adding a column with the winning attempts\n",
    "newdf1['winning_attempts'] = newdf1.groupby('playerId')['tag'].transform('sum')\n",
    "newdf1 = newdf1[newdf1 [\"total_attempts\"] > 380]"
   ]
  },
  {
   "cell_type": "code",
   "execution_count": 11,
   "metadata": {},
   "outputs": [
    {
     "data": {
      "text/html": [
       "<div>\n",
       "<style scoped>\n",
       "    .dataframe tbody tr th:only-of-type {\n",
       "        vertical-align: middle;\n",
       "    }\n",
       "\n",
       "    .dataframe tbody tr th {\n",
       "        vertical-align: top;\n",
       "    }\n",
       "\n",
       "    .dataframe thead th {\n",
       "        text-align: right;\n",
       "    }\n",
       "</style>\n",
       "<table border=\"1\" class=\"dataframe\">\n",
       "  <thead>\n",
       "    <tr style=\"text-align: right;\">\n",
       "      <th></th>\n",
       "      <th>playerId</th>\n",
       "      <th>lastName</th>\n",
       "      <th>total_attempts</th>\n",
       "      <th>winning_attempts</th>\n",
       "      <th>ratio</th>\n",
       "    </tr>\n",
       "  </thead>\n",
       "  <tbody>\n",
       "    <tr>\n",
       "      <th>0</th>\n",
       "      <td>36</td>\n",
       "      <td>Alderweireld</td>\n",
       "      <td>898</td>\n",
       "      <td>762</td>\n",
       "      <td>0.848552</td>\n",
       "    </tr>\n",
       "    <tr>\n",
       "      <th>1</th>\n",
       "      <td>48</td>\n",
       "      <td>Vertonghen</td>\n",
       "      <td>2370</td>\n",
       "      <td>2013</td>\n",
       "      <td>0.849367</td>\n",
       "    </tr>\n",
       "    <tr>\n",
       "      <th>2</th>\n",
       "      <td>54</td>\n",
       "      <td>Dannemann Eriksen</td>\n",
       "      <td>2196</td>\n",
       "      <td>1677</td>\n",
       "      <td>0.763661</td>\n",
       "    </tr>\n",
       "    <tr>\n",
       "      <th>3</th>\n",
       "      <td>74</td>\n",
       "      <td>Klavan</td>\n",
       "      <td>1130</td>\n",
       "      <td>1017</td>\n",
       "      <td>0.900000</td>\n",
       "    </tr>\n",
       "    <tr>\n",
       "      <th>4</th>\n",
       "      <td>93</td>\n",
       "      <td>Berg Gu\\u00f0munds\\u00adson</td>\n",
       "      <td>840</td>\n",
       "      <td>528</td>\n",
       "      <td>0.628571</td>\n",
       "    </tr>\n",
       "    <tr>\n",
       "      <th>5</th>\n",
       "      <td>107</td>\n",
       "      <td>Pieters</td>\n",
       "      <td>1041</td>\n",
       "      <td>694</td>\n",
       "      <td>0.666667</td>\n",
       "    </tr>\n",
       "    <tr>\n",
       "      <th>6</th>\n",
       "      <td>116</td>\n",
       "      <td>Wijnaldum</td>\n",
       "      <td>1225</td>\n",
       "      <td>1069</td>\n",
       "      <td>0.872653</td>\n",
       "    </tr>\n",
       "    <tr>\n",
       "      <th>7</th>\n",
       "      <td>160</td>\n",
       "      <td>Janmaat</td>\n",
       "      <td>822</td>\n",
       "      <td>567</td>\n",
       "      <td>0.689781</td>\n",
       "    </tr>\n",
       "    <tr>\n",
       "      <th>8</th>\n",
       "      <td>173</td>\n",
       "      <td>van La Parra</td>\n",
       "      <td>690</td>\n",
       "      <td>477</td>\n",
       "      <td>0.691304</td>\n",
       "    </tr>\n",
       "    <tr>\n",
       "      <th>9</th>\n",
       "      <td>262</td>\n",
       "      <td>Fer</td>\n",
       "      <td>587</td>\n",
       "      <td>460</td>\n",
       "      <td>0.783646</td>\n",
       "    </tr>\n",
       "  </tbody>\n",
       "</table>\n",
       "</div>"
      ],
      "text/plain": [
       "   playerId                     lastName  total_attempts  winning_attempts  \\\n",
       "0        36                 Alderweireld             898               762   \n",
       "1        48                   Vertonghen            2370              2013   \n",
       "2        54            Dannemann Eriksen            2196              1677   \n",
       "3        74                       Klavan            1130              1017   \n",
       "4        93  Berg Gu\\u00f0munds\\u00adson             840               528   \n",
       "5       107                      Pieters            1041               694   \n",
       "6       116                    Wijnaldum            1225              1069   \n",
       "7       160                      Janmaat             822               567   \n",
       "8       173                 van La Parra             690               477   \n",
       "9       262                          Fer             587               460   \n",
       "\n",
       "      ratio  \n",
       "0  0.848552  \n",
       "1  0.849367  \n",
       "2  0.763661  \n",
       "3  0.900000  \n",
       "4  0.628571  \n",
       "5  0.666667  \n",
       "6  0.872653  \n",
       "7  0.689781  \n",
       "8  0.691304  \n",
       "9  0.783646  "
      ]
     },
     "execution_count": 11,
     "metadata": {},
     "output_type": "execute_result"
    }
   ],
   "source": [
    "# we grouped by playerID and created a new column called Ratio\n",
    "temp = newdf1.groupby('playerId',as_index=False).last()\n",
    "temp['ratio'] = temp[\"winning_attempts\"]/temp[\"total_attempts\"]\n",
    "temp[[\"playerId\", \"lastName\", \"total_attempts\", \"winning_attempts\",\"ratio\"]].head(10)"
   ]
  }
 ],
 "metadata": {
  "kernelspec": {
   "display_name": "Python 3",
   "language": "python",
   "name": "python3"
  },
  "language_info": {
   "codemirror_mode": {
    "name": "ipython",
    "version": 3
   },
   "file_extension": ".py",
   "mimetype": "text/x-python",
   "name": "python",
   "nbconvert_exporter": "python",
   "pygments_lexer": "ipython3",
   "version": "3.7.3"
  }
 },
 "nbformat": 4,
 "nbformat_minor": 2
}
