{
 "cells": [
  {
   "cell_type": "code",
   "execution_count": 62,
   "metadata": {},
   "outputs": [],
   "source": [
    "import json\n",
    "import pandas as pd\n",
    "import numpy as np\n",
    "import seaborn as sns\n",
    "import matplotlib.pyplot as plt\n",
    "#this way we can visualize in the notebook\n",
    "%matplotlib inline "
   ]
  },
  {
   "cell_type": "code",
   "execution_count": 3,
   "metadata": {},
   "outputs": [],
   "source": [
    "events = pd.read_json(\"C:/Users/Luca/Desktop/-/Università/Magistrale/Primo anno/Primo semestre/ADM/Homeworks/Homework #2/Data/events/events_England.json\")\n",
    "matches = pd.read_json(\"C:/Users/Luca/Desktop/-/Università/Magistrale/Primo anno/Primo semestre/ADM/Homeworks/Homework #2/Data/matches/matches_England.json\")\n",
    "teams = pd.read_json(\"C:/Users/Luca/Desktop/-/Università/Magistrale/Primo anno/Primo semestre/ADM/Homeworks/Homework #2/Data/teams.json\")\n",
    "players = pd.read_json(\"C:/Users/Luca/Desktop/-/Università/Magistrale/Primo anno/Primo semestre/ADM/Homeworks/Homework #2/Data/players.json\")"
   ]
  },
  {
   "cell_type": "markdown",
   "metadata": {},
   "source": [
    "### Part 1 of CRQ 1"
   ]
  },
  {
   "cell_type": "code",
   "execution_count": 4,
   "metadata": {},
   "outputs": [],
   "source": [
    "events = events[[\"matchPeriod\", \"eventSec\", \"tags\", \"subEventId\", \"matchId\", \"eventName\", \"teamId\", \"playerId\"]]"
   ]
  },
  {
   "cell_type": "code",
   "execution_count": 5,
   "metadata": {},
   "outputs": [],
   "source": [
    "# Transform seconds into minutes\n",
    "events[\"eventMin\"] = events.apply(lambda row: row.eventSec/60+45 if row.matchPeriod == \"2H\" else row.eventSec/60, axis= 1) "
   ]
  },
  {
   "cell_type": "code",
   "execution_count": 6,
   "metadata": {},
   "outputs": [],
   "source": [
    "# We decided to put in the bin [36-45) all the goals that were scored at 45+ of the first half of the game\n",
    "events.loc[(events['eventMin']> 45) & (events[\"matchPeriod\"] == '1H'), ['eventMin']] = 45"
   ]
  },
  {
   "cell_type": "code",
   "execution_count": 8,
   "metadata": {},
   "outputs": [],
   "source": [
    "# now we have to keep only the events with tag 101 = Goal that were succesful tag 1801\n",
    "# some indexes have an empty tag []\n",
    "events['goal'] = events.apply(lambda row: (1 if (row.tags[0]['id'] == 101) & (row.tags[-1]['id'] == 1801) else 0) if row.tags != [] else 0, axis=1)"
   ]
  },
  {
   "cell_type": "code",
   "execution_count": 9,
   "metadata": {},
   "outputs": [],
   "source": [
    "# we kept the goals that were scored\n",
    "events = events[events.goal != 0]"
   ]
  },
  {
   "cell_type": "code",
   "execution_count": 58,
   "metadata": {},
   "outputs": [],
   "source": [
    "# let's set up the bins \n",
    "goals = events\n",
    "bins = [0,9,18,27,36,45,54,63,72,81,90,103]\n",
    "#use pd.cut function can attribute the values into its specific bins\n",
    "goals[\"bins\"] = pd.cut(events[\"eventMin\"], bins) "
   ]
  },
  {
   "cell_type": "code",
   "execution_count": 59,
   "metadata": {},
   "outputs": [],
   "source": [
    "goals = goals[[\"bins\", \"goal\"]]"
   ]
  },
  {
   "cell_type": "code",
   "execution_count": 60,
   "metadata": {},
   "outputs": [
    {
     "data": {
      "text/html": [
       "<div>\n",
       "<style scoped>\n",
       "    .dataframe tbody tr th:only-of-type {\n",
       "        vertical-align: middle;\n",
       "    }\n",
       "\n",
       "    .dataframe tbody tr th {\n",
       "        vertical-align: top;\n",
       "    }\n",
       "\n",
       "    .dataframe thead th {\n",
       "        text-align: right;\n",
       "    }\n",
       "</style>\n",
       "<table border=\"1\" class=\"dataframe\">\n",
       "  <thead>\n",
       "    <tr style=\"text-align: right;\">\n",
       "      <th></th>\n",
       "      <th>goal</th>\n",
       "    </tr>\n",
       "    <tr>\n",
       "      <th>bins</th>\n",
       "      <th></th>\n",
       "    </tr>\n",
       "  </thead>\n",
       "  <tbody>\n",
       "    <tr>\n",
       "      <th>(0, 9]</th>\n",
       "      <td>70</td>\n",
       "    </tr>\n",
       "    <tr>\n",
       "      <th>(9, 18]</th>\n",
       "      <td>75</td>\n",
       "    </tr>\n",
       "    <tr>\n",
       "      <th>(18, 27]</th>\n",
       "      <td>85</td>\n",
       "    </tr>\n",
       "    <tr>\n",
       "      <th>(27, 36]</th>\n",
       "      <td>72</td>\n",
       "    </tr>\n",
       "    <tr>\n",
       "      <th>(36, 45]</th>\n",
       "      <td>111</td>\n",
       "    </tr>\n",
       "    <tr>\n",
       "      <th>(45, 54]</th>\n",
       "      <td>104</td>\n",
       "    </tr>\n",
       "    <tr>\n",
       "      <th>(54, 63]</th>\n",
       "      <td>101</td>\n",
       "    </tr>\n",
       "    <tr>\n",
       "      <th>(63, 72]</th>\n",
       "      <td>100</td>\n",
       "    </tr>\n",
       "    <tr>\n",
       "      <th>(72, 81]</th>\n",
       "      <td>115</td>\n",
       "    </tr>\n",
       "    <tr>\n",
       "      <th>(81, 90]</th>\n",
       "      <td>105</td>\n",
       "    </tr>\n",
       "    <tr>\n",
       "      <th>(90, 103]</th>\n",
       "      <td>48</td>\n",
       "    </tr>\n",
       "  </tbody>\n",
       "</table>\n",
       "</div>"
      ],
      "text/plain": [
       "           goal\n",
       "bins           \n",
       "(0, 9]       70\n",
       "(9, 18]      75\n",
       "(18, 27]     85\n",
       "(27, 36]     72\n",
       "(36, 45]    111\n",
       "(45, 54]    104\n",
       "(54, 63]    101\n",
       "(63, 72]    100\n",
       "(72, 81]    115\n",
       "(81, 90]    105\n",
       "(90, 103]    48"
      ]
     },
     "execution_count": 60,
     "metadata": {},
     "output_type": "execute_result"
    }
   ],
   "source": [
    "goals.groupby(['bins']).sum() #just to double check"
   ]
  },
  {
   "cell_type": "code",
   "execution_count": 63,
   "metadata": {},
   "outputs": [
    {
     "data": {
      "image/png": "[encoded data removed]",
      "text/plain": [
       "<Figure size 864x504 with 1 Axes>"
      ]
     },
     "metadata": {
      "needs_background": "light"
     },
     "output_type": "display_data"
    }
   ],
   "source": [
    "plt.figure(figsize=(12,7))\n",
    "goal_plot = sns.countplot(x=\"bins\", data=goals)"
   ]
  },
  {
   "cell_type": "markdown",
   "metadata": {},
   "source": [
    "### Part 2 CRQ1"
   ]
  },
  {
   "cell_type": "code",
   "execution_count": 64,
   "metadata": {},
   "outputs": [],
   "source": [
    "# let's set up the bins \n",
    "top10 = events\n",
    "bins = [81,90]\n",
    "#use pd.cut function can attribute the values into its specific bins\n",
    "top10[\"bins\"] = pd.cut(top10[\"eventMin\"], bins) "
   ]
  },
  {
   "cell_type": "code",
   "execution_count": 65,
   "metadata": {},
   "outputs": [],
   "source": [
    "top10 = events[[\"teamId\", \"bins\", \"goal\"]]\n",
    "top10 = top10.dropna()"
   ]
  },
  {
   "cell_type": "code",
   "execution_count": 66,
   "metadata": {},
   "outputs": [],
   "source": [
    "top10 = top10.groupby([\"teamId\"]).sum() # we are grouping by teamId"
   ]
  },
  {
   "cell_type": "code",
   "execution_count": 67,
   "metadata": {},
   "outputs": [],
   "source": [
    "top10 = top10.sort_values(\"goal\", ascending=False).head(10)"
   ]
  },
  {
   "cell_type": "code",
   "execution_count": 68,
   "metadata": {},
   "outputs": [],
   "source": [
    "# now we are going to merge the teamsID between top10 and teams to ge the name \n",
    "top10_name = top10.merge(teams, left_on='teamId', right_on='wyId') "
   ]
  },
  {
   "cell_type": "code",
   "execution_count": 69,
   "metadata": {},
   "outputs": [
    {
     "data": {
      "text/html": [
       "<div>\n",
       "<style scoped>\n",
       "    .dataframe tbody tr th:only-of-type {\n",
       "        vertical-align: middle;\n",
       "    }\n",
       "\n",
       "    .dataframe tbody tr th {\n",
       "        vertical-align: top;\n",
       "    }\n",
       "\n",
       "    .dataframe thead th {\n",
       "        text-align: right;\n",
       "    }\n",
       "</style>\n",
       "<table border=\"1\" class=\"dataframe\">\n",
       "  <thead>\n",
       "    <tr style=\"text-align: right;\">\n",
       "      <th></th>\n",
       "      <th>goal</th>\n",
       "      <th>officialName</th>\n",
       "    </tr>\n",
       "  </thead>\n",
       "  <tbody>\n",
       "    <tr>\n",
       "      <th>0</th>\n",
       "      <td>13</td>\n",
       "      <td>Manchester City FC</td>\n",
       "    </tr>\n",
       "    <tr>\n",
       "      <th>1</th>\n",
       "      <td>11</td>\n",
       "      <td>Arsenal FC</td>\n",
       "    </tr>\n",
       "    <tr>\n",
       "      <th>2</th>\n",
       "      <td>9</td>\n",
       "      <td>Manchester United FC</td>\n",
       "    </tr>\n",
       "    <tr>\n",
       "      <th>3</th>\n",
       "      <td>9</td>\n",
       "      <td>Chelsea FC</td>\n",
       "    </tr>\n",
       "    <tr>\n",
       "      <th>4</th>\n",
       "      <td>7</td>\n",
       "      <td>Watford FC</td>\n",
       "    </tr>\n",
       "    <tr>\n",
       "      <th>5</th>\n",
       "      <td>7</td>\n",
       "      <td>Crystal Palace FC</td>\n",
       "    </tr>\n",
       "    <tr>\n",
       "      <th>6</th>\n",
       "      <td>7</td>\n",
       "      <td>Liverpool FC</td>\n",
       "    </tr>\n",
       "    <tr>\n",
       "      <th>7</th>\n",
       "      <td>6</td>\n",
       "      <td>West Ham United FC</td>\n",
       "    </tr>\n",
       "    <tr>\n",
       "      <th>8</th>\n",
       "      <td>5</td>\n",
       "      <td>Tottenham Hotspur FC</td>\n",
       "    </tr>\n",
       "    <tr>\n",
       "      <th>9</th>\n",
       "      <td>5</td>\n",
       "      <td>AFC Bournemouth</td>\n",
       "    </tr>\n",
       "  </tbody>\n",
       "</table>\n",
       "</div>"
      ],
      "text/plain": [
       "   goal          officialName\n",
       "0    13    Manchester City FC\n",
       "1    11            Arsenal FC\n",
       "2     9  Manchester United FC\n",
       "3     9            Chelsea FC\n",
       "4     7            Watford FC\n",
       "5     7     Crystal Palace FC\n",
       "6     7          Liverpool FC\n",
       "7     6    West Ham United FC\n",
       "8     5  Tottenham Hotspur FC\n",
       "9     5       AFC Bournemouth"
      ]
     },
     "execution_count": 69,
     "metadata": {},
     "output_type": "execute_result"
    }
   ],
   "source": [
    "top10_name = top10_name[[\"goal\", \"officialName\"]]\n",
    "top10_name"
   ]
  },
  {
   "cell_type": "code",
   "execution_count": 70,
   "metadata": {},
   "outputs": [
    {
     "data": {
      "image/png": "[encoded data removed]",
      "text/plain": [
       "<Figure size 1296x360 with 1 Axes>"
      ]
     },
     "metadata": {
      "needs_background": "light"
     },
     "output_type": "display_data"
    }
   ],
   "source": [
    "plt.figure(figsize=(18,5))\n",
    "ax = sns.barplot(x=\"officialName\", y=\"goal\", data=top10_name)"
   ]
  },
  {
   "cell_type": "markdown",
   "metadata": {},
   "source": [
    "### Part 3 CRQ1"
   ]
  },
  {
   "cell_type": "code",
   "execution_count": 12,
   "metadata": {},
   "outputs": [],
   "source": [
    "players = pd.read_json(\"C:/Users/Luca/Desktop/-/Università/Magistrale/Primo anno/Primo semestre/ADM/Homeworks/Homework #2/Data/players.json\")\n",
    "events = pd.read_json(\"C:/Users/Luca/Desktop/-/Università/Magistrale/Primo anno/Primo semestre/ADM/Homeworks/Homework #2/Data/events/events_England.json\")"
   ]
  },
  {
   "cell_type": "code",
   "execution_count": 56,
   "metadata": {},
   "outputs": [],
   "source": [
    "df3 = events"
   ]
  },
  {
   "cell_type": "code",
   "execution_count": 14,
   "metadata": {},
   "outputs": [],
   "source": [
    "# let's set up the bins \n",
    "goals_scored = events\n",
    "bins = [0,9,18,27,36,45,54,63,72,81,90,103]\n",
    "#use pd.cut function can place the values into its specific bins\n",
    "goals_scored[\"bins\"] = pd.cut(df3[\"eventMin\"], bins) "
   ]
  },
  {
   "cell_type": "code",
   "execution_count": 15,
   "metadata": {},
   "outputs": [],
   "source": [
    "goals_scored = goals_scored[[\"playerId\", \"bins\", \"eventMin\"]]"
   ]
  },
  {
   "cell_type": "code",
   "execution_count": 17,
   "metadata": {},
   "outputs": [],
   "source": [
    "df = pd.crosstab(index=[goals_scored['bins']],columns=[goals_scored['playerId']],margins=False)"
   ]
  },
  {
   "cell_type": "code",
   "execution_count": 20,
   "metadata": {},
   "outputs": [],
   "source": [
    "df = df.astype(bool).astype(int)"
   ]
  },
  {
   "cell_type": "code",
   "execution_count": 21,
   "metadata": {
    "scrolled": true
   },
   "outputs": [],
   "source": [
    "goal_period = df.sum(axis = 0)"
   ]
  },
  {
   "cell_type": "code",
   "execution_count": 22,
   "metadata": {},
   "outputs": [],
   "source": [
    "s = goal_period > 8"
   ]
  },
  {
   "cell_type": "code",
   "execution_count": 49,
   "metadata": {},
   "outputs": [],
   "source": [
    "player = pd.DataFrame({'playerId':s.index})"
   ]
  },
  {
   "cell_type": "code",
   "execution_count": 51,
   "metadata": {},
   "outputs": [],
   "source": [
    "crq1_3 = player.merge(players, left_on='playerId', right_on='wyId') "
   ]
  },
  {
   "cell_type": "code",
   "execution_count": 55,
   "metadata": {},
   "outputs": [
    {
     "data": {
      "text/plain": [
       "0    \\u00c1lvaro Morata\n",
       "1             R. Lukaku\n",
       "2               H. Kane\n",
       "3           R. Sterling\n",
       "4              J. Vardy\n",
       "5         Mohamed Salah\n",
       "Name: shortName, dtype: object"
      ]
     },
     "execution_count": 55,
     "metadata": {},
     "output_type": "execute_result"
    }
   ],
   "source": [
    "crq1_3[\"shortName\"]"
   ]
  }
 ],
 "metadata": {
  "kernelspec": {
   "display_name": "Python 3",
   "language": "python",
   "name": "python3"
  },
  "language_info": {
   "codemirror_mode": {
    "name": "ipython",
    "version": 3
   },
   "file_extension": ".py",
   "mimetype": "text/x-python",
   "name": "python",
   "nbconvert_exporter": "python",
   "pygments_lexer": "ipython3",
   "version": "3.7.3"
  }
 },
 "nbformat": 4,
 "nbformat_minor": 2
}
