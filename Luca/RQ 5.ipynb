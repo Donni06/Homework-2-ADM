{
 "cells": [
  {
   "cell_type": "markdown",
   "metadata": {},
   "source": [
    "## RQ5"
   ]
  },
  {
   "cell_type": "code",
   "execution_count": 2,
   "metadata": {},
   "outputs": [],
   "source": [
    "import json\n",
    "import pandas as pd\n",
    "import numpy as np\n",
    "import seaborn as sns\n",
    "#this way we can visualize in the notebook\n",
    "%matplotlib inline "
   ]
  },
  {
   "cell_type": "code",
   "execution_count": 3,
   "metadata": {},
   "outputs": [],
   "source": [
    "players = pd.read_json(\"C:/Users/Luca/Desktop/-/Università/Magistrale/Primo anno/Primo semestre/ADM/Homeworks/Homework #2/Data/players.json\")"
   ]
  },
  {
   "cell_type": "code",
   "execution_count": 5,
   "metadata": {},
   "outputs": [
    {
     "data": {
      "text/html": [
       "<div>\n",
       "<style scoped>\n",
       "    .dataframe tbody tr th:only-of-type {\n",
       "        vertical-align: middle;\n",
       "    }\n",
       "\n",
       "    .dataframe tbody tr th {\n",
       "        vertical-align: top;\n",
       "    }\n",
       "\n",
       "    .dataframe thead th {\n",
       "        text-align: right;\n",
       "    }\n",
       "</style>\n",
       "<table border=\"1\" class=\"dataframe\">\n",
       "  <thead>\n",
       "    <tr style=\"text-align: right;\">\n",
       "      <th></th>\n",
       "      <th>birthArea</th>\n",
       "      <th>birthDate</th>\n",
       "      <th>currentNationalTeamId</th>\n",
       "      <th>currentTeamId</th>\n",
       "      <th>firstName</th>\n",
       "      <th>foot</th>\n",
       "      <th>height</th>\n",
       "      <th>lastName</th>\n",
       "      <th>middleName</th>\n",
       "      <th>passportArea</th>\n",
       "      <th>role</th>\n",
       "      <th>shortName</th>\n",
       "      <th>weight</th>\n",
       "      <th>wyId</th>\n",
       "    </tr>\n",
       "  </thead>\n",
       "  <tbody>\n",
       "    <tr>\n",
       "      <th>0</th>\n",
       "      <td>{'name': 'Turkey', 'id': '792', 'alpha3code': ...</td>\n",
       "      <td>1989-06-17</td>\n",
       "      <td>4687</td>\n",
       "      <td>4502</td>\n",
       "      <td>Harun</td>\n",
       "      <td>right</td>\n",
       "      <td>187</td>\n",
       "      <td>Tekin</td>\n",
       "      <td></td>\n",
       "      <td>{'name': 'Turkey', 'id': '792', 'alpha3code': ...</td>\n",
       "      <td>{'code2': 'GK', 'code3': 'GKP', 'name': 'Goalk...</td>\n",
       "      <td>H. Tekin</td>\n",
       "      <td>78</td>\n",
       "      <td>32777</td>\n",
       "    </tr>\n",
       "    <tr>\n",
       "      <th>1</th>\n",
       "      <td>{'name': 'France', 'id': '250', 'alpha3code': ...</td>\n",
       "      <td>1999-01-23</td>\n",
       "      <td>4423</td>\n",
       "      <td>3775</td>\n",
       "      <td>Malang</td>\n",
       "      <td>left</td>\n",
       "      <td>182</td>\n",
       "      <td>Sarr</td>\n",
       "      <td></td>\n",
       "      <td>{'name': 'Senegal', 'id': '686', 'alpha3code':...</td>\n",
       "      <td>{'code2': 'DF', 'code3': 'DEF', 'name': 'Defen...</td>\n",
       "      <td>M. Sarr</td>\n",
       "      <td>73</td>\n",
       "      <td>393228</td>\n",
       "    </tr>\n",
       "    <tr>\n",
       "      <th>2</th>\n",
       "      <td>{'name': 'France', 'id': '250', 'alpha3code': ...</td>\n",
       "      <td>1998-10-26</td>\n",
       "      <td>null</td>\n",
       "      <td>3772</td>\n",
       "      <td>Over</td>\n",
       "      <td></td>\n",
       "      <td>176</td>\n",
       "      <td>Mandanda</td>\n",
       "      <td></td>\n",
       "      <td>{'name': 'France', 'id': '250', 'alpha3code': ...</td>\n",
       "      <td>{'code2': 'GK', 'code3': 'GKP', 'name': 'Goalk...</td>\n",
       "      <td>O. Mandanda</td>\n",
       "      <td>72</td>\n",
       "      <td>393230</td>\n",
       "    </tr>\n",
       "    <tr>\n",
       "      <th>3</th>\n",
       "      <td>{'name': 'France', 'id': '250', 'alpha3code': ...</td>\n",
       "      <td>1990-03-06</td>\n",
       "      <td>19314</td>\n",
       "      <td>683</td>\n",
       "      <td>Alfred John Momar</td>\n",
       "      <td>right</td>\n",
       "      <td>187</td>\n",
       "      <td>N'Diaye</td>\n",
       "      <td></td>\n",
       "      <td>{'name': 'Senegal', 'id': '686', 'alpha3code':...</td>\n",
       "      <td>{'code2': 'MD', 'code3': 'MID', 'name': 'Midfi...</td>\n",
       "      <td>A. N'Diaye</td>\n",
       "      <td>82</td>\n",
       "      <td>32793</td>\n",
       "    </tr>\n",
       "    <tr>\n",
       "      <th>4</th>\n",
       "      <td>{'name': 'France', 'id': '250', 'alpha3code': ...</td>\n",
       "      <td>1999-05-25</td>\n",
       "      <td>null</td>\n",
       "      <td>2975</td>\n",
       "      <td>Ibrahima</td>\n",
       "      <td>right</td>\n",
       "      <td>192</td>\n",
       "      <td>Konat\\u00e9</td>\n",
       "      <td></td>\n",
       "      <td>{'name': 'France', 'id': '250', 'alpha3code': ...</td>\n",
       "      <td>{'code2': 'DF', 'code3': 'DEF', 'name': 'Defen...</td>\n",
       "      <td>I. Konat\\u00e9</td>\n",
       "      <td>84</td>\n",
       "      <td>393247</td>\n",
       "    </tr>\n",
       "  </tbody>\n",
       "</table>\n",
       "</div>"
      ],
      "text/plain": [
       "                                           birthArea   birthDate  \\\n",
       "0  {'name': 'Turkey', 'id': '792', 'alpha3code': ...  1989-06-17   \n",
       "1  {'name': 'France', 'id': '250', 'alpha3code': ...  1999-01-23   \n",
       "2  {'name': 'France', 'id': '250', 'alpha3code': ...  1998-10-26   \n",
       "3  {'name': 'France', 'id': '250', 'alpha3code': ...  1990-03-06   \n",
       "4  {'name': 'France', 'id': '250', 'alpha3code': ...  1999-05-25   \n",
       "\n",
       "  currentNationalTeamId currentTeamId          firstName   foot  height  \\\n",
       "0                  4687          4502              Harun  right     187   \n",
       "1                  4423          3775             Malang   left     182   \n",
       "2                  null          3772               Over            176   \n",
       "3                 19314           683  Alfred John Momar  right     187   \n",
       "4                  null          2975           Ibrahima  right     192   \n",
       "\n",
       "      lastName middleName                                       passportArea  \\\n",
       "0        Tekin             {'name': 'Turkey', 'id': '792', 'alpha3code': ...   \n",
       "1         Sarr             {'name': 'Senegal', 'id': '686', 'alpha3code':...   \n",
       "2     Mandanda             {'name': 'France', 'id': '250', 'alpha3code': ...   \n",
       "3      N'Diaye             {'name': 'Senegal', 'id': '686', 'alpha3code':...   \n",
       "4  Konat\\u00e9             {'name': 'France', 'id': '250', 'alpha3code': ...   \n",
       "\n",
       "                                                role       shortName  weight  \\\n",
       "0  {'code2': 'GK', 'code3': 'GKP', 'name': 'Goalk...        H. Tekin      78   \n",
       "1  {'code2': 'DF', 'code3': 'DEF', 'name': 'Defen...         M. Sarr      73   \n",
       "2  {'code2': 'GK', 'code3': 'GKP', 'name': 'Goalk...     O. Mandanda      72   \n",
       "3  {'code2': 'MD', 'code3': 'MID', 'name': 'Midfi...      A. N'Diaye      82   \n",
       "4  {'code2': 'DF', 'code3': 'DEF', 'name': 'Defen...  I. Konat\\u00e9      84   \n",
       "\n",
       "     wyId  \n",
       "0   32777  \n",
       "1  393228  \n",
       "2  393230  \n",
       "3   32793  \n",
       "4  393247  "
      ]
     },
     "execution_count": 5,
     "metadata": {},
     "output_type": "execute_result"
    }
   ],
   "source": [
    "players.head()"
   ]
  },
  {
   "cell_type": "code",
   "execution_count": 8,
   "metadata": {},
   "outputs": [],
   "source": [
    "events = pd.read_json(\"C:/Users/Luca/Desktop/-/Università/Magistrale/Primo anno/Primo semestre/ADM/Homeworks/Homework #2/Data/events/events_England.json\")"
   ]
  },
  {
   "cell_type": "code",
   "execution_count": null,
   "metadata": {},
   "outputs": [],
   "source": [
    "# We only need the datasets \"players\" and \"events\", events has the id of the player"
   ]
  },
  {
   "cell_type": "code",
   "execution_count": 9,
   "metadata": {},
   "outputs": [],
   "source": [
    "#we are only interested in the Duels and then pick the air duels tag 1801\n",
    "duel = events[events[\"subEventName\"] == \"Air duel\"][[\"id\", \"matchId\", \"playerId\", \"tags\", \"teamId\"]] \n",
    "#duel "
   ]
  },
  {
   "cell_type": "code",
   "execution_count": null,
   "metadata": {},
   "outputs": [],
   "source": [
    "# number of players that have an ID that is Non-zero, just to check\n",
    "# duel[\"playerId\"].astype(bool).sum(axis=0) "
   ]
  },
  {
   "cell_type": "code",
   "execution_count": 10,
   "metadata": {},
   "outputs": [],
   "source": [
    "# it gives us only 34778 records vs 37760 of duel, why? There are players with ID = 0\n",
    "newdf = duel.merge(players, left_on='playerId', right_on='wyId') "
   ]
  },
  {
   "cell_type": "code",
   "execution_count": 11,
   "metadata": {},
   "outputs": [],
   "source": [
    "# we added a new column with the total attempts\n",
    "newdf['total_attempts'] = newdf.groupby('playerId')['playerId'].transform('count') \n",
    "newdf = newdf[[\"playerId\", \"tags\", \"height\", \"total_attempts\"]]"
   ]
  },
  {
   "cell_type": "code",
   "execution_count": 12,
   "metadata": {},
   "outputs": [],
   "source": [
    "# add a column that counts every winning duel giving 1 if tag == 1801 and 0 if it is not\n",
    "newdf['tag'] = newdf.apply(lambda row: 1 if row.tags[1]['id'] == 1801 else 0, axis=1)\n",
    "#newdf"
   ]
  },
  {
   "cell_type": "code",
   "execution_count": 14,
   "metadata": {},
   "outputs": [],
   "source": [
    "# adding a column with the winning attempts\n",
    "newdf['winning_attempts'] = newdf.groupby('playerId')['tag'].transform('sum')\n",
    "newdf = newdf[newdf [\"total_attempts\"] > 38]"
   ]
  },
  {
   "cell_type": "code",
   "execution_count": 15,
   "metadata": {},
   "outputs": [],
   "source": [
    "# we grouped by playerID and created a new column called Ratio\n",
    "temp = newdf.groupby('playerId',as_index=False).last()\n",
    "temp['ratio'] = temp[\"winning_attempts\"]/temp[\"total_attempts\"]\n",
    "#temp[[\"height\", \"ratio\"]]"
   ]
  },
  {
   "cell_type": "code",
   "execution_count": 16,
   "metadata": {},
   "outputs": [
    {
     "data": {
      "text/plain": [
       "<matplotlib.axes._subplots.AxesSubplot at 0x2bc37758a90>"
      ]
     },
     "execution_count": 16,
     "metadata": {},
     "output_type": "execute_result"
    },
    {
     "data": {
      "image/png": "[encoded data removed]",
      "text/plain": [
       "<Figure size 432x288 with 1 Axes>"
      ]
     },
     "metadata": {
      "needs_background": "light"
     },
     "output_type": "display_data"
    }
   ],
   "source": [
    "sns.scatterplot(x = temp[\"height\"], y = temp['ratio'], data=temp, hue=temp[\"height\"])"
   ]
  }
 ],
 "metadata": {
  "kernelspec": {
   "display_name": "Python 3",
   "language": "python",
   "name": "python3"
  },
  "language_info": {
   "codemirror_mode": {
    "name": "ipython",
    "version": 3
   },
   "file_extension": ".py",
   "mimetype": "text/x-python",
   "name": "python",
   "nbconvert_exporter": "python",
   "pygments_lexer": "ipython3",
   "version": "3.7.3"
  }
 },
 "nbformat": 4,
 "nbformat_minor": 2
}
